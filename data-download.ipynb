{
 "cells": [
  {
   "cell_type": "code",
   "execution_count": 1,
   "metadata": {},
   "outputs": [],
   "source": [
    "# imports\n",
    "import gzip\n",
    "import shutil\n",
    "import urllib\n",
    "import numpy as np\n",
    "import pandas as pd\n"
   ]
  },
  {
   "cell_type": "code",
   "execution_count": 2,
   "metadata": {},
   "outputs": [],
   "source": [
    "# function to download the data in tsv format\n",
    "\n",
    "def download_data(link, folder):\n",
    "    gz_file_name = link.rsplit('/', 1)[-1]\n",
    "    gz_full_path = folder + '/' + gz_file_name\n",
    "\n",
    "    tsv_file_name = gz_file_name.rsplit('.', 1)[0]\n",
    "    tsv_full_path = folder + '/' + tsv_file_name\n",
    "\n",
    "    response = urllib.request.urlretrieve(link, filename=gz_full_path)\n",
    "\n",
    "    with gzip.open(gz_full_path, 'rb') as f_in:\n",
    "        with open(tsv_full_path, 'wb') as f_out:\n",
    "            shutil.copyfileobj(f_in, f_out)\n"
   ]
  },
  {
   "cell_type": "code",
   "execution_count": 3,
   "metadata": {},
   "outputs": [],
   "source": [
    "# function to generate the tsv file path \n",
    "def generate_tsv_file_path(link, folder):\n",
    "    gz_file_name = link.rsplit('/', 1)[-1]\n",
    "    tsv_file_name = gz_file_name.rsplit('.', 1)[0]\n",
    "    tsv_full_path = folder + '/' + tsv_file_name\n",
    "    \n",
    "    return tsv_full_path\n"
   ]
  },
  {
   "cell_type": "code",
   "execution_count": 4,
   "metadata": {},
   "outputs": [],
   "source": [
    "# function to generate the csv file path\n",
    "def generate_csv_file_path(tsv_file_path, folder):\n",
    "    csv_file_path = tsv_file_path.rsplit('.', 1)[0] + '.csv'\n",
    "    \n",
    "    return csv_file_path\n"
   ]
  },
  {
   "cell_type": "code",
   "execution_count": 5,
   "metadata": {},
   "outputs": [],
   "source": [
    "# function to replace string representing nulls to null\n",
    "def replace_nulls(input_df):\n",
    "    input_df = input_df.replace('\\\\N', np.nan)\n",
    "    \n",
    "    return input_df\n"
   ]
  },
  {
   "cell_type": "code",
   "execution_count": 6,
   "metadata": {},
   "outputs": [
    {
     "name": "stderr",
     "output_type": "stream",
     "text": [
      "C:\\Users\\Dante\\AppData\\Local\\Temp\\ipykernel_6160\\594269366.py:7: DtypeWarning: Columns (7) have mixed types. Specify dtype option on import or set low_memory=False.\n",
      "  df = pd.read_csv(tsv_file_path, sep='\\t')\n",
      "C:\\Users\\Dante\\AppData\\Local\\Temp\\ipykernel_6160\\594269366.py:7: DtypeWarning: Columns (4) have mixed types. Specify dtype option on import or set low_memory=False.\n",
      "  df = pd.read_csv(tsv_file_path, sep='\\t')\n"
     ]
    }
   ],
   "source": [
    "links = ['https://datasets.imdbws.com/name.basics.tsv.gz', 'https://datasets.imdbws.com/title.akas.tsv.gz', 'https://datasets.imdbws.com/title.basics.tsv.gz', 'https://datasets.imdbws.com/title.crew.tsv.gz',\n",
    "         'https://datasets.imdbws.com/title.episode.tsv.gz', 'https://datasets.imdbws.com/title.principals.tsv.gz', 'https://datasets.imdbws.com/title.ratings.tsv.gz']\n",
    "folder_name = 'data'\n",
    "for link in links:\n",
    "    download_data(link, folder_name)\n",
    "    tsv_file_path = generate_tsv_file_path(link, folder_name)\n",
    "    df = pd.read_csv(tsv_file_path, sep='\\t')\n",
    "    df = replace_nulls(df)\n",
    "\n",
    "    csv_file_path = generate_csv_file_path(tsv_file_path,folder_name)\n",
    "    df.to_csv(csv_file_path, index=False)\n"
   ]
  }
 ],
 "metadata": {
  "kernelspec": {
   "display_name": "movie-sentiment-analysis",
   "language": "python",
   "name": "python3"
  },
  "language_info": {
   "codemirror_mode": {
    "name": "ipython",
    "version": 3
   },
   "file_extension": ".py",
   "mimetype": "text/x-python",
   "name": "python",
   "nbconvert_exporter": "python",
   "pygments_lexer": "ipython3",
   "version": "3.10.9"
  },
  "orig_nbformat": 4,
  "vscode": {
   "interpreter": {
    "hash": "1fa234a7d0b0bd63c1aac458e91264965fcb8e14d3bf36d0d84e4731812c3ccd"
   }
  }
 },
 "nbformat": 4,
 "nbformat_minor": 2
}
