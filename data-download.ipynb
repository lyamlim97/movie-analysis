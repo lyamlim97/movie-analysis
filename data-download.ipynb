{
 "cells": [
  {
   "cell_type": "code",
   "execution_count": 1,
   "metadata": {},
   "outputs": [],
   "source": [
    "# imports\n",
    "import pandas as pd\n",
    "import gzip\n",
    "import shutil\n",
    "import urllib\n"
   ]
  },
  {
   "cell_type": "code",
   "execution_count": 2,
   "metadata": {},
   "outputs": [],
   "source": [
    "# function to download the data in tsv format\n",
    "\n",
    "def download_data(link, folder):\n",
    "    gz_file_name = link.rsplit('/', 1)[-1]\n",
    "    gz_full_path = folder + '/' + gz_file_name\n",
    "\n",
    "    tsv_file_name = gz_file_name.rsplit('.', 1)[0]\n",
    "    tsv_full_path = folder + '/' + tsv_file_name\n",
    "\n",
    "    response = urllib.request.urlretrieve(link, filename=gz_full_path)\n",
    "\n",
    "    with gzip.open(gz_full_path, 'rb') as f_in:\n",
    "        with open(tsv_full_path, 'wb') as f_out:\n",
    "            shutil.copyfileobj(f_in, f_out)\n"
   ]
  },
  {
   "cell_type": "code",
   "execution_count": 3,
   "metadata": {},
   "outputs": [],
   "source": [
    "links = ['https://datasets.imdbws.com/name.basics.tsv.gz', 'https://datasets.imdbws.com/title.akas.tsv.gz', 'https://datasets.imdbws.com/title.basics.tsv.gz', 'https://datasets.imdbws.com/title.crew.tsv.gz',\n",
    "         'https://datasets.imdbws.com/title.episode.tsv.gz', 'https://datasets.imdbws.com/title.principals.tsv.gz', 'https://datasets.imdbws.com/title.ratings.tsv.gz']\n",
    "\n",
    "folder_path = 'data'\n",
    "for link in links:\n",
    "    download_data(link, folder_path)\n"
   ]
  }
 ],
 "metadata": {
  "kernelspec": {
   "display_name": "movie-sentiment-analysis",
   "language": "python",
   "name": "python3"
  },
  "language_info": {
   "codemirror_mode": {
    "name": "ipython",
    "version": 3
   },
   "file_extension": ".py",
   "mimetype": "text/x-python",
   "name": "python",
   "nbconvert_exporter": "python",
   "pygments_lexer": "ipython3",
   "version": "3.10.9"
  },
  "orig_nbformat": 4,
  "vscode": {
   "interpreter": {
    "hash": "1fa234a7d0b0bd63c1aac458e91264965fcb8e14d3bf36d0d84e4731812c3ccd"
   }
  }
 },
 "nbformat": 4,
 "nbformat_minor": 2
}
